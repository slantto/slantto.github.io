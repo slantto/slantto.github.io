{
 "cells": [
  {
   "cell_type": "markdown",
   "metadata": {},
   "source": [
    "# Venable PhD Results"
   ]
  },
  {
   "cell_type": "markdown",
   "metadata": {},
   "source": [
    "In this IPython notebook, we're going to discuss some of the results from some of the progress over the last week. In addition, we will discuss the path forward to getting the first journal article out the door, and the JNC 2015 presentation ready. "
   ]
  },
  {
   "cell_type": "markdown",
   "metadata": {},
   "source": [
    "## Last Week, Today"
   ]
  },
  {
   "cell_type": "markdown",
   "metadata": {},
   "source": [
    "Over the last week we've accomplished the following tasks:\n",
    "\n",
    "-  Recovered from data loss by reconverting all FC1 and FC2 *final* bagfiles to HDF5/Pytables\n",
    "-  Stood up IPython Parallel Cluster\n",
    "-  Ran PNP on all 8 flights using parallel cluster\n",
    "    - Added additional category to store stats individually on PNP Error, and added another output table for features that passed the Brute Force Matcher but RANSAC kicked out\n",
    "    - Haven't been to base yet today, but was complete with 8/10 yesterday for a 100+ hour run. Could make this more parallel in the future (right now each job is processed on an individual flight, and I have an idle node)\n",
    "- Have an additional IPython notebook for neogeo database operations where we look at:\n",
    "    - How to load a subset of features from the database. Answers the question on how to load a fixed number of features using both feature metrics and enforcing geometric diversity.\n",
    "    - Built a FLANN database from that subset, and run the neogeo observation likelihood first step (matching to that subset and binning the matches)\n",
    "    - Built a visualization of the results using matplotlib animation"
   ]
  },
  {
   "cell_type": "markdown",
   "metadata": {},
   "source": [
    "## Going Forward"
   ]
  },
  {
   "cell_type": "markdown",
   "metadata": {},
   "source": [
    "Goals for the upcoming week:\n",
    "\n",
    "- Outline JNC 2015 presentation (mostly done, just need to figure out what results we want to show)\n",
    "    - Have a bunch of the background material ready, just which results\n",
    "        - Flight test aggregation, show flight paths for at least the first two flight campaigns\n",
    "        - Show details of the database itself, implementaiton and some of the aggregation results\n",
    "        - Show how we used metrics of the features to downsample the database\n",
    "        - Show some of the visualization of NEOGEO running for one flight? \n",
    "        - Show NED error for PNP for at least one flight, hopefully all flights\n",
    "        - Show mapping of PNP error to the database\n",
    "        - How do we show the real time results? Do we show these first and then go into analysis / post processing? \n",
    "    - And then path to get the results:\n",
    "        - Currently have raw matches from neogeo, need to: \n",
    "            - Convert these to likelihood\n",
    "            - Run the filter with the motion model\n",
    "        - PnP is currently running with the BFMatcher, too many features, and is estimating attitude\n",
    "        - To get to real time (<1sec) we'd need to: \n",
    "            - Subsample the features from both the image and the database (easy)\n",
    "            - Implement FLANN if that subsampling is still too slow with BFMatcher (might not be -- numpy dot product of 5k by 20k is about 400msec; FLANN is ~605 to build the indes and then 9mses to search it, so only faster if we're observing the same tile a few times in a row)\n",
    "            - Or we could just ignore real time for the time being and test with \n"
   ]
  },
  {
   "cell_type": "code",
   "execution_count": null,
   "metadata": {},
   "outputs": [],
   "source": [
    ""
   ]
  }
 ],
 "metadata": {
  "kernelspec": {
   "display_name": "Python 2",
   "language": "python",
   "name": "python2"
  },
  "language_info": {
   "codemirror_mode": {
    "name": "ipython",
    "version": 2.0
   },
   "file_extension": ".py",
   "mimetype": "text/x-python",
   "name": "python",
   "nbconvert_exporter": "python",
   "pygments_lexer": "ipython2",
   "version": "2.7.10"
  }
 },
 "nbformat": 4,
 "nbformat_minor": 0
}